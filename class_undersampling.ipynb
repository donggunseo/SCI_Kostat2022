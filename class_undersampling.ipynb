{
 "cells": [
  {
   "cell_type": "code",
   "execution_count": 2,
   "metadata": {},
   "outputs": [],
   "source": [
    "import pandas as pd\n",
    "\n",
    "df = pd.read_csv(\"input/industry/train.csv\")\n",
    "TOTAL = len(df)\n",
    "MAXIMUM_SAMPLES = 100000"
   ]
  },
  {
   "cell_type": "code",
   "execution_count": null,
   "metadata": {},
   "outputs": [],
   "source": [
    "import seaborn as sns\n",
    "from matplotlib import pyplot as plt\n",
    "\n",
    "def visualize(df):\n",
    "    def plot(x_label, df, fig_size = (15,8), x_rotation=0):    \n",
    "        plt.rc('font', family='NanumBarunGothic')\n",
    "        sns.set(rc = {'figure.figsize':fig_size})\n",
    "        sns.barplot(data=df, x=df.columns[0], y=df.columns[1])\n",
    "        plt.xticks(rotation=x_rotation)\n",
    "        plt.show()\n",
    "        \n",
    "    x_label = 'digit_3'\n",
    "    count3_df = df[x_label].value_counts().reset_index()\n",
    "    count3_df.columns=[x_label, 'Count']\n",
    "    plot(x_label, count3_df, x_rotation=90, fig_size=(40,10))\n"
   ]
  },
  {
   "cell_type": "markdown",
   "metadata": {},
   "source": [
    "비율 상관 없이 cut-off했을 때"
   ]
  },
  {
   "cell_type": "code",
   "execution_count": 94,
   "metadata": {},
   "outputs": [
    {
     "name": "stdout",
     "output_type": "stream",
     "text": [
      "100357\n"
     ]
    }
   ],
   "source": [
    "CUT_OFF_THRESHOLD = 620\n",
    "cut_df = df.groupby('digit_3', group_keys=False).apply(lambda x: x.sample(min(len(x), CUT_OFF_THRESHOLD)))\n",
    "print(len(cut_df))"
   ]
  },
  {
   "cell_type": "code",
   "execution_count": 95,
   "metadata": {},
   "outputs": [],
   "source": [
    "def validate_na(x):\n",
    "    count = 0\n",
    "    if pd.isnull(x['text_obj']):\n",
    "        count += 1\n",
    "    if pd.isnull(x['text_mthd']):\n",
    "        count += 1\n",
    "    if pd.isnull(x['text_deal']):\n",
    "        count += 1\n",
    "    return count\n",
    "\n",
    "df['nan_count'] = df.apply(validate_na, axis=1)\n",
    "cut_df['nan_count'] = cut_df.apply(validate_na, axis=1)"
   ]
  },
  {
   "cell_type": "code",
   "execution_count": 102,
   "metadata": {},
   "outputs": [
    {
     "name": "stdout",
     "output_type": "stream",
     "text": [
      "925009 92.5009\n",
      "22034 2.2034000000000002\n",
      "52957 5.2957\n",
      "0 0.0\n",
      "------------ratio------------\n",
      "0.023820308775374076\n",
      "0.05725025378131456\n",
      "0.0\n"
     ]
    }
   ],
   "source": [
    "NA_0 = len(df[df['nan_count'] == 0])\n",
    "NA_1 = len(df[df['nan_count'] == 1])\n",
    "NA_2 = len(df[df['nan_count'] == 2])\n",
    "NA_3 = len(df[df['nan_count'] == 3])\n",
    "print(NA_0, NA_0/TOTAL*100)\n",
    "print(NA_1, NA_1/TOTAL*100)\n",
    "print(NA_2, NA_2/TOTAL*100)\n",
    "print(NA_3, NA_3/TOTAL*100)\n",
    "print(\"------------ratio------------\")\n",
    "print(NA_1/NA_0)\n",
    "print(NA_2/NA_0)\n",
    "print(NA_3/NA_0)"
   ]
  },
  {
   "cell_type": "code",
   "execution_count": 103,
   "metadata": {},
   "outputs": [
    {
     "name": "stdout",
     "output_type": "stream",
     "text": [
      "88102 8.8102\n",
      "6394 0.6394000000000001\n",
      "5861 0.5861\n",
      "0 0.0\n",
      "------------ratio------------\n",
      "0.07257496992122767\n",
      "0.06652516401443781\n",
      "0.0\n"
     ]
    }
   ],
   "source": [
    "CUT_NA_0 = len(cut_df[cut_df['nan_count'] == 0])\n",
    "CUT_NA_1 = len(cut_df[cut_df['nan_count'] == 1])\n",
    "CUT_NA_2 = len(cut_df[cut_df['nan_count'] == 2])\n",
    "CUT_NA_3 = len(cut_df[cut_df['nan_count'] == 3])\n",
    "print(CUT_NA_0, CUT_NA_0/TOTAL*100)\n",
    "print(CUT_NA_1, CUT_NA_1/TOTAL*100)\n",
    "print(CUT_NA_2, CUT_NA_2/TOTAL*100)\n",
    "print(CUT_NA_3, CUT_NA_3/TOTAL*100)\n",
    "print(\"------------ratio------------\")\n",
    "print(CUT_NA_1/CUT_NA_0)\n",
    "print(CUT_NA_2/CUT_NA_0)\n",
    "print(CUT_NA_3/CUT_NA_0)\n"
   ]
  },
  {
   "cell_type": "markdown",
   "metadata": {},
   "source": [
    "비율 고려하여 cut-off했을 때"
   ]
  },
  {
   "cell_type": "code",
   "execution_count": 104,
   "metadata": {},
   "outputs": [
    {
     "name": "stdout",
     "output_type": "stream",
     "text": [
      "92500.0 2200.0 5300.0\n"
     ]
    }
   ],
   "source": [
    "TRI_SAMPLES = MAXIMUM_SAMPLES * 0.925\n",
    "BI_SAMPLES = MAXIMUM_SAMPLES * 0.022\n",
    "UNI_SAMPLES = MAXIMUM_SAMPLES * 0.053\n",
    "\n",
    "print(TRI_SAMPLES, BI_SAMPLES, UNI_SAMPLES)"
   ]
  },
  {
   "cell_type": "code",
   "execution_count": 105,
   "metadata": {},
   "outputs": [],
   "source": [
    "tri_df = df[df['nan_count'] == 0]\n",
    "bi_df = df[df['nan_count'] == 1]\n",
    "uni_df = df[df['nan_count'] == 2]"
   ]
  },
  {
   "cell_type": "code",
   "execution_count": 106,
   "metadata": {},
   "outputs": [
    {
     "name": "stdout",
     "output_type": "stream",
     "text": [
      "92432 92500.0\n",
      "2257 2200.0\n",
      "5320 5300.0\n"
     ]
    }
   ],
   "source": [
    "max_counts = [TRI_SAMPLES, BI_SAMPLES, UNI_SAMPLES]\n",
    "\n",
    "cut_tri_df = tri_df.groupby('digit_3', group_keys=False).apply(lambda x: x.sample(min(len(x), 590)))\n",
    "print(len(cut_tri_df), max_counts[0])\n",
    "cut_bi_df = bi_df.groupby('digit_3', group_keys=False).apply(lambda x: x.sample(min(len(x), 13)))\n",
    "print(len(cut_bi_df), max_counts[1])\n",
    "cut_uni_df = uni_df.groupby('digit_3', group_keys=False).apply(lambda x: x.sample(min(len(x), 37)))\n",
    "print(len(cut_uni_df), max_counts[2])"
   ]
  },
  {
   "cell_type": "code",
   "execution_count": 107,
   "metadata": {},
   "outputs": [
    {
     "data": {
      "text/html": [
       "<div>\n",
       "<style scoped>\n",
       "    .dataframe tbody tr th:only-of-type {\n",
       "        vertical-align: middle;\n",
       "    }\n",
       "\n",
       "    .dataframe tbody tr th {\n",
       "        vertical-align: top;\n",
       "    }\n",
       "\n",
       "    .dataframe thead th {\n",
       "        text-align: right;\n",
       "    }\n",
       "</style>\n",
       "<table border=\"1\" class=\"dataframe\">\n",
       "  <thead>\n",
       "    <tr style=\"text-align: right;\">\n",
       "      <th></th>\n",
       "      <th>Unnamed: 0</th>\n",
       "      <th>AI_id</th>\n",
       "      <th>digit_1</th>\n",
       "      <th>digit_2</th>\n",
       "      <th>digit_3</th>\n",
       "      <th>text_obj</th>\n",
       "      <th>text_mthd</th>\n",
       "      <th>text_deal</th>\n",
       "      <th>nan_count</th>\n",
       "    </tr>\n",
       "  </thead>\n",
       "  <tbody>\n",
       "    <tr>\n",
       "      <th>438910</th>\n",
       "      <td>438910</td>\n",
       "      <td>id_0438911</td>\n",
       "      <td>A</td>\n",
       "      <td>1</td>\n",
       "      <td>11</td>\n",
       "      <td>육묘장</td>\n",
       "      <td>벼 재배</td>\n",
       "      <td>벼 모종</td>\n",
       "      <td>0</td>\n",
       "    </tr>\n",
       "    <tr>\n",
       "      <th>632234</th>\n",
       "      <td>632234</td>\n",
       "      <td>id_0632235</td>\n",
       "      <td>A</td>\n",
       "      <td>1</td>\n",
       "      <td>11</td>\n",
       "      <td>참다래나무를</td>\n",
       "      <td>비닐하우스에서</td>\n",
       "      <td>참다래재배</td>\n",
       "      <td>0</td>\n",
       "    </tr>\n",
       "    <tr>\n",
       "      <th>31961</th>\n",
       "      <td>31961</td>\n",
       "      <td>id_0031962</td>\n",
       "      <td>A</td>\n",
       "      <td>1</td>\n",
       "      <td>11</td>\n",
       "      <td>잔디재배</td>\n",
       "      <td>잔디</td>\n",
       "      <td>도.소매</td>\n",
       "      <td>0</td>\n",
       "    </tr>\n",
       "    <tr>\n",
       "      <th>871352</th>\n",
       "      <td>871352</td>\n",
       "      <td>id_0871353</td>\n",
       "      <td>A</td>\n",
       "      <td>1</td>\n",
       "      <td>11</td>\n",
       "      <td>법인에서</td>\n",
       "      <td>작물재배</td>\n",
       "      <td>감자,양상추,벼</td>\n",
       "      <td>0</td>\n",
       "    </tr>\n",
       "    <tr>\n",
       "      <th>959622</th>\n",
       "      <td>959622</td>\n",
       "      <td>id_0959623</td>\n",
       "      <td>A</td>\n",
       "      <td>1</td>\n",
       "      <td>11</td>\n",
       "      <td>노지에서</td>\n",
       "      <td>일반소비자를대상으로</td>\n",
       "      <td>브루베리재배</td>\n",
       "      <td>0</td>\n",
       "    </tr>\n",
       "    <tr>\n",
       "      <th>...</th>\n",
       "      <td>...</td>\n",
       "      <td>...</td>\n",
       "      <td>...</td>\n",
       "      <td>...</td>\n",
       "      <td>...</td>\n",
       "      <td>...</td>\n",
       "      <td>...</td>\n",
       "      <td>...</td>\n",
       "      <td>...</td>\n",
       "    </tr>\n",
       "    <tr>\n",
       "      <th>675963</th>\n",
       "      <td>675963</td>\n",
       "      <td>id_0675964</td>\n",
       "      <td>S</td>\n",
       "      <td>96</td>\n",
       "      <td>969</td>\n",
       "      <td>NaN</td>\n",
       "      <td>사업장에코인세탁시설을갖추고일반소비자에게세탁기등제공</td>\n",
       "      <td>NaN</td>\n",
       "      <td>2</td>\n",
       "    </tr>\n",
       "    <tr>\n",
       "      <th>997791</th>\n",
       "      <td>997791</td>\n",
       "      <td>id_0997792</td>\n",
       "      <td>S</td>\n",
       "      <td>96</td>\n",
       "      <td>969</td>\n",
       "      <td>NaN</td>\n",
       "      <td>고객들이 직접와서 동전을 넣고 셀프로 빨래를 돌리는 코인세탁소</td>\n",
       "      <td>NaN</td>\n",
       "      <td>2</td>\n",
       "    </tr>\n",
       "    <tr>\n",
       "      <th>272282</th>\n",
       "      <td>272282</td>\n",
       "      <td>id_0272283</td>\n",
       "      <td>S</td>\n",
       "      <td>96</td>\n",
       "      <td>969</td>\n",
       "      <td>장례식장 및 장의관련 서비스업</td>\n",
       "      <td>NaN</td>\n",
       "      <td>NaN</td>\n",
       "      <td>2</td>\n",
       "    </tr>\n",
       "    <tr>\n",
       "      <th>408152</th>\n",
       "      <td>408152</td>\n",
       "      <td>id_0408153</td>\n",
       "      <td>S</td>\n",
       "      <td>96</td>\n",
       "      <td>969</td>\n",
       "      <td>NaN</td>\n",
       "      <td>철학관</td>\n",
       "      <td>NaN</td>\n",
       "      <td>2</td>\n",
       "    </tr>\n",
       "    <tr>\n",
       "      <th>418005</th>\n",
       "      <td>418005</td>\n",
       "      <td>id_0418006</td>\n",
       "      <td>S</td>\n",
       "      <td>96</td>\n",
       "      <td>969</td>\n",
       "      <td>NaN</td>\n",
       "      <td>셀프빨래방</td>\n",
       "      <td>NaN</td>\n",
       "      <td>2</td>\n",
       "    </tr>\n",
       "  </tbody>\n",
       "</table>\n",
       "<p>100009 rows × 9 columns</p>\n",
       "</div>"
      ],
      "text/plain": [
       "        Unnamed: 0       AI_id digit_1  digit_2  digit_3          text_obj  \\\n",
       "438910      438910  id_0438911       A        1       11               육묘장   \n",
       "632234      632234  id_0632235       A        1       11            참다래나무를   \n",
       "31961        31961  id_0031962       A        1       11              잔디재배   \n",
       "871352      871352  id_0871353       A        1       11              법인에서   \n",
       "959622      959622  id_0959623       A        1       11              노지에서   \n",
       "...            ...         ...     ...      ...      ...               ...   \n",
       "675963      675963  id_0675964       S       96      969               NaN   \n",
       "997791      997791  id_0997792       S       96      969               NaN   \n",
       "272282      272282  id_0272283       S       96      969  장례식장 및 장의관련 서비스업   \n",
       "408152      408152  id_0408153       S       96      969               NaN   \n",
       "418005      418005  id_0418006       S       96      969               NaN   \n",
       "\n",
       "                                 text_mthd text_deal  nan_count  \n",
       "438910                                벼 재배      벼 모종          0  \n",
       "632234                             비닐하우스에서     참다래재배          0  \n",
       "31961                                   잔디      도.소매          0  \n",
       "871352                                작물재배  감자,양상추,벼          0  \n",
       "959622                          일반소비자를대상으로    브루베리재배          0  \n",
       "...                                    ...       ...        ...  \n",
       "675963         사업장에코인세탁시설을갖추고일반소비자에게세탁기등제공       NaN          2  \n",
       "997791  고객들이 직접와서 동전을 넣고 셀프로 빨래를 돌리는 코인세탁소       NaN          2  \n",
       "272282                                 NaN       NaN          2  \n",
       "408152                                 철학관       NaN          2  \n",
       "418005                               셀프빨래방       NaN          2  \n",
       "\n",
       "[100009 rows x 9 columns]"
      ]
     },
     "execution_count": 107,
     "metadata": {},
     "output_type": "execute_result"
    }
   ],
   "source": [
    "stratified_cut_df = pd.DataFrame()\n",
    "stratified_cut_df = pd.concat([cut_tri_df, cut_bi_df, cut_uni_df])\n",
    "stratified_cut_df"
   ]
  },
  {
   "cell_type": "code",
   "execution_count": 113,
   "metadata": {},
   "outputs": [
    {
     "name": "stdout",
     "output_type": "stream",
     "text": [
      "92432 9.2432\n",
      "2257 0.22569999999999998\n",
      "5320 0.532\n",
      "0 0.0\n",
      "------------ratio------------\n",
      "0.02441795049333564\n",
      "0.05755582482257227\n",
      "0.0\n",
      "\n",
      "original was ...\n",
      "925009 92.5009\n",
      "22034 2.2034000000000002\n",
      "52957 5.2957\n",
      "0 0.0\n",
      "------------ratio------------\n",
      "0.023820308775374076\n",
      "0.05725025378131456\n",
      "0.0\n"
     ]
    }
   ],
   "source": [
    "STRA_NA_0 = len(stratified_cut_df[stratified_cut_df['nan_count'] == 0])\n",
    "STRA_NA_1 = len(stratified_cut_df[stratified_cut_df['nan_count'] == 1])\n",
    "STRA_NA_2 = len(stratified_cut_df[stratified_cut_df['nan_count'] == 2])\n",
    "STRA_NA_3 = len(stratified_cut_df[stratified_cut_df['nan_count'] == 3])\n",
    "print(STRA_NA_0, STRA_NA_0/TOTAL*100)\n",
    "print(STRA_NA_1, STRA_NA_1/TOTAL*100)\n",
    "print(STRA_NA_2, STRA_NA_2/TOTAL*100)\n",
    "print(STRA_NA_3, STRA_NA_3/TOTAL*100)\n",
    "print(\"------------ratio------------\")\n",
    "print(STRA_NA_1/STRA_NA_0)\n",
    "print(STRA_NA_2/STRA_NA_0)\n",
    "print(STRA_NA_3/STRA_NA_0)\n",
    "print(\"\\noriginal was ...\")\n",
    "print(NA_0, NA_0/TOTAL*100)\n",
    "print(NA_1, NA_1/TOTAL*100)\n",
    "print(NA_2, NA_2/TOTAL*100)\n",
    "print(NA_3, NA_3/TOTAL*100)\n",
    "print(\"------------ratio------------\")\n",
    "print(NA_1/NA_0)\n",
    "print(NA_2/NA_0)\n",
    "print(NA_3/NA_0)"
   ]
  },
  {
   "cell_type": "code",
   "execution_count": null,
   "metadata": {},
   "outputs": [
    {
     "data": {
      "image/png": "[encoded data removed]",
      "text/plain": [
       "<Figure size 2880x720 with 1 Axes>"
      ]
     },
     "metadata": {},
     "output_type": "display_data"
    }
   ],
   "source": [
    "visualize(cut_df)"
   ]
  },
  {
   "cell_type": "code",
   "execution_count": null,
   "metadata": {},
   "outputs": [
    {
     "data": {
      "image/png": "[encoded data removed]",
      "text/plain": [
       "<Figure size 2880x720 with 1 Axes>"
      ]
     },
     "metadata": {},
     "output_type": "display_data"
    }
   ],
   "source": [
    "visualize(stratified_cut_df)"
   ]
  },
  {
   "cell_type": "code",
   "execution_count": 120,
   "metadata": {},
   "outputs": [
    {
     "data": {
      "text/html": [
       "<div>\n",
       "<style scoped>\n",
       "    .dataframe tbody tr th:only-of-type {\n",
       "        vertical-align: middle;\n",
       "    }\n",
       "\n",
       "    .dataframe tbody tr th {\n",
       "        vertical-align: top;\n",
       "    }\n",
       "\n",
       "    .dataframe thead th {\n",
       "        text-align: right;\n",
       "    }\n",
       "</style>\n",
       "<table border=\"1\" class=\"dataframe\">\n",
       "  <thead>\n",
       "    <tr style=\"text-align: right;\">\n",
       "      <th></th>\n",
       "      <th>Unnamed: 0</th>\n",
       "      <th>AI_id</th>\n",
       "      <th>digit_1</th>\n",
       "      <th>digit_2</th>\n",
       "      <th>digit_3</th>\n",
       "      <th>text_obj</th>\n",
       "      <th>text_mthd</th>\n",
       "      <th>text_deal</th>\n",
       "      <th>nan_count</th>\n",
       "    </tr>\n",
       "  </thead>\n",
       "  <tbody>\n",
       "    <tr>\n",
       "      <th>438910</th>\n",
       "      <td>438910</td>\n",
       "      <td>id_0438911</td>\n",
       "      <td>A</td>\n",
       "      <td>1</td>\n",
       "      <td>11</td>\n",
       "      <td>육묘장</td>\n",
       "      <td>벼 재배</td>\n",
       "      <td>벼 모종</td>\n",
       "      <td>0</td>\n",
       "    </tr>\n",
       "    <tr>\n",
       "      <th>632234</th>\n",
       "      <td>632234</td>\n",
       "      <td>id_0632235</td>\n",
       "      <td>A</td>\n",
       "      <td>1</td>\n",
       "      <td>11</td>\n",
       "      <td>참다래나무를</td>\n",
       "      <td>비닐하우스에서</td>\n",
       "      <td>참다래재배</td>\n",
       "      <td>0</td>\n",
       "    </tr>\n",
       "    <tr>\n",
       "      <th>31961</th>\n",
       "      <td>31961</td>\n",
       "      <td>id_0031962</td>\n",
       "      <td>A</td>\n",
       "      <td>1</td>\n",
       "      <td>11</td>\n",
       "      <td>잔디재배</td>\n",
       "      <td>잔디</td>\n",
       "      <td>도.소매</td>\n",
       "      <td>0</td>\n",
       "    </tr>\n",
       "    <tr>\n",
       "      <th>871352</th>\n",
       "      <td>871352</td>\n",
       "      <td>id_0871353</td>\n",
       "      <td>A</td>\n",
       "      <td>1</td>\n",
       "      <td>11</td>\n",
       "      <td>법인에서</td>\n",
       "      <td>작물재배</td>\n",
       "      <td>감자,양상추,벼</td>\n",
       "      <td>0</td>\n",
       "    </tr>\n",
       "    <tr>\n",
       "      <th>959622</th>\n",
       "      <td>959622</td>\n",
       "      <td>id_0959623</td>\n",
       "      <td>A</td>\n",
       "      <td>1</td>\n",
       "      <td>11</td>\n",
       "      <td>노지에서</td>\n",
       "      <td>일반소비자를대상으로</td>\n",
       "      <td>브루베리재배</td>\n",
       "      <td>0</td>\n",
       "    </tr>\n",
       "    <tr>\n",
       "      <th>...</th>\n",
       "      <td>...</td>\n",
       "      <td>...</td>\n",
       "      <td>...</td>\n",
       "      <td>...</td>\n",
       "      <td>...</td>\n",
       "      <td>...</td>\n",
       "      <td>...</td>\n",
       "      <td>...</td>\n",
       "      <td>...</td>\n",
       "    </tr>\n",
       "    <tr>\n",
       "      <th>675963</th>\n",
       "      <td>675963</td>\n",
       "      <td>id_0675964</td>\n",
       "      <td>S</td>\n",
       "      <td>96</td>\n",
       "      <td>969</td>\n",
       "      <td>NaN</td>\n",
       "      <td>사업장에코인세탁시설을갖추고일반소비자에게세탁기등제공</td>\n",
       "      <td>NaN</td>\n",
       "      <td>2</td>\n",
       "    </tr>\n",
       "    <tr>\n",
       "      <th>997791</th>\n",
       "      <td>997791</td>\n",
       "      <td>id_0997792</td>\n",
       "      <td>S</td>\n",
       "      <td>96</td>\n",
       "      <td>969</td>\n",
       "      <td>NaN</td>\n",
       "      <td>고객들이 직접와서 동전을 넣고 셀프로 빨래를 돌리는 코인세탁소</td>\n",
       "      <td>NaN</td>\n",
       "      <td>2</td>\n",
       "    </tr>\n",
       "    <tr>\n",
       "      <th>272282</th>\n",
       "      <td>272282</td>\n",
       "      <td>id_0272283</td>\n",
       "      <td>S</td>\n",
       "      <td>96</td>\n",
       "      <td>969</td>\n",
       "      <td>장례식장 및 장의관련 서비스업</td>\n",
       "      <td>NaN</td>\n",
       "      <td>NaN</td>\n",
       "      <td>2</td>\n",
       "    </tr>\n",
       "    <tr>\n",
       "      <th>408152</th>\n",
       "      <td>408152</td>\n",
       "      <td>id_0408153</td>\n",
       "      <td>S</td>\n",
       "      <td>96</td>\n",
       "      <td>969</td>\n",
       "      <td>NaN</td>\n",
       "      <td>철학관</td>\n",
       "      <td>NaN</td>\n",
       "      <td>2</td>\n",
       "    </tr>\n",
       "    <tr>\n",
       "      <th>418005</th>\n",
       "      <td>418005</td>\n",
       "      <td>id_0418006</td>\n",
       "      <td>S</td>\n",
       "      <td>96</td>\n",
       "      <td>969</td>\n",
       "      <td>NaN</td>\n",
       "      <td>셀프빨래방</td>\n",
       "      <td>NaN</td>\n",
       "      <td>2</td>\n",
       "    </tr>\n",
       "  </tbody>\n",
       "</table>\n",
       "<p>100009 rows × 9 columns</p>\n",
       "</div>"
      ],
      "text/plain": [
       "        Unnamed: 0       AI_id digit_1  digit_2  digit_3          text_obj  \\\n",
       "438910      438910  id_0438911       A        1       11               육묘장   \n",
       "632234      632234  id_0632235       A        1       11            참다래나무를   \n",
       "31961        31961  id_0031962       A        1       11              잔디재배   \n",
       "871352      871352  id_0871353       A        1       11              법인에서   \n",
       "959622      959622  id_0959623       A        1       11              노지에서   \n",
       "...            ...         ...     ...      ...      ...               ...   \n",
       "675963      675963  id_0675964       S       96      969               NaN   \n",
       "997791      997791  id_0997792       S       96      969               NaN   \n",
       "272282      272282  id_0272283       S       96      969  장례식장 및 장의관련 서비스업   \n",
       "408152      408152  id_0408153       S       96      969               NaN   \n",
       "418005      418005  id_0418006       S       96      969               NaN   \n",
       "\n",
       "                                 text_mthd text_deal  nan_count  \n",
       "438910                                벼 재배      벼 모종          0  \n",
       "632234                             비닐하우스에서     참다래재배          0  \n",
       "31961                                   잔디      도.소매          0  \n",
       "871352                                작물재배  감자,양상추,벼          0  \n",
       "959622                          일반소비자를대상으로    브루베리재배          0  \n",
       "...                                    ...       ...        ...  \n",
       "675963         사업장에코인세탁시설을갖추고일반소비자에게세탁기등제공       NaN          2  \n",
       "997791  고객들이 직접와서 동전을 넣고 셀프로 빨래를 돌리는 코인세탁소       NaN          2  \n",
       "272282                                 NaN       NaN          2  \n",
       "408152                                 철학관       NaN          2  \n",
       "418005                               셀프빨래방       NaN          2  \n",
       "\n",
       "[100009 rows x 9 columns]"
      ]
     },
     "execution_count": 120,
     "metadata": {},
     "output_type": "execute_result"
    }
   ],
   "source": [
    "stratified_cut_df"
   ]
  },
  {
   "cell_type": "code",
   "execution_count": 122,
   "metadata": {},
   "outputs": [],
   "source": [
    "stratified_cut_df.drop(['Unnamed: 0'], axis=1, inplace=True)"
   ]
  },
  {
   "cell_type": "code",
   "execution_count": 116,
   "metadata": {},
   "outputs": [],
   "source": [
    "stratified_cut_df.to_csv(\"train_cufoff.csv\", index=False)"
   ]
  },
  {
   "cell_type": "code",
   "execution_count": null,
   "metadata": {},
   "outputs": [],
   "source": []
  }
 ],
 "metadata": {
  "interpreter": {
   "hash": "5aa82812c4681f8310f3f49363d12ac4c7be23abd4617d81f239e4ef56509db9"
  },
  "kernelspec": {
   "display_name": "Python 3.8.12 ('py38')",
   "language": "python",
   "name": "python3"
  },
  "language_info": {
   "codemirror_mode": {
    "name": "ipython",
    "version": 3
   },
   "file_extension": ".py",
   "mimetype": "text/x-python",
   "name": "python",
   "nbconvert_exporter": "python",
   "pygments_lexer": "ipython3",
   "version": "3.8.12"
  },
  "orig_nbformat": 4
 },
 "nbformat": 4,
 "nbformat_minor": 2
}
